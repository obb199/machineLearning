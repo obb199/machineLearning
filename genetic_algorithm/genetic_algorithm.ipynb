{
 "cells": [
  {
   "cell_type": "code",
   "execution_count": null,
   "metadata": {},
   "outputs": [],
   "source": [
    "import random\n",
    "#'experiment' results\n",
    "\n",
    "experiment = []\n",
    "for i in range(350):\n",
    "    v0 = random.randint(1, 50)\n",
    "    t  = random.randint(5, 15)\n",
    "    a  = random.randint(5, 10)\n",
    "    experiment.append({'v0':v0, 't':t, 'a':a, 's':v0*t + a*t*t/2})\n",
    "print(experiment)"
   ]
  },
  {
   "cell_type": "code",
   "execution_count": null,
   "metadata": {},
   "outputs": [],
   "source": [
    "class Individual:\n",
    "    def __init__(self, values):\n",
    "        self.values = values"
   ]
  },
  {
   "cell_type": "code",
   "execution_count": null,
   "metadata": {},
   "outputs": [],
   "source": [
    "#struct of results -> {constant * variable, operator, constant * variable, operator, constant * variable, operator ....}\n",
    "expected_result = ['v0_const*v0', '*', 't_const1*t', '+', 'a_const*a', '*', 't_const2*t', '*', 't_const3*t'] #(or simillar)\n",
    "problem_variables = [\"v0\", \"a\", \"t\", \"v0_const\", \"a_const\", \"t_const1\", \"t_const2\", \"t_const3\"]\n",
    "\n",
    "def create_population(length_population):\n",
    "    population = []\n",
    "    operations = ['+', '*']\n",
    "    for _ in range(length_population):\n",
    "        const1 = random.random()*2\n",
    "        const2 = random.random()*2\n",
    "        const3 = random.random()*2\n",
    "        const4 = random.random()*2\n",
    "        const5 = random.random()*2\n",
    "            \n",
    "        individual = [[const1, \"a\"], [const2, \"v0\"], [const3, \"t\"], [const4, \"t\"], [const5, \"t\"]]\n",
    "        random.shuffle(individual)\n",
    "        for i in range(1, 9, 2):\n",
    "            individual.insert(i, random.choice(operations))\n",
    "        population.append(Individual(individual))\n",
    "\n",
    "    return population\n",
    "\n",
    "def reconstruct_function(individual):\n",
    "    print(f\"S(a, v0, t) = {str(individual[0][0])}*{individual[0][1]} {individual[1]} {str(individual[2][0])}*{individual[2][1]} {individual[3]} {str(individual[4][0])}*{individual[4][1]} {individual[5]} {str(individual[6][0])}*{individual[6][1]} {individual[7]} {str(individual[8][0])}*{individual[8][1]}\")\n",
    "\n",
    "\n",
    "def apply_function(population, experiments):\n",
    "    \"\"\"\n",
    "    population -> equations created\n",
    "    experiments -> value of variables and results of real equation\n",
    "    \"\"\"\n",
    "    for p in population:\n",
    "        p.values.append(0) #create a new part of population with results of equations to compare with real results\n",
    "        for experiment in experiments:\n",
    "            distance = float(p.values[0][0])*experiment[p.values[0][1]]\n",
    "            for i in range(1, 9, 2):\n",
    "                if p.values[i] == '+':\n",
    "                    distance += float(p.values[i+1][0])*experiment[p.values[i+1][1]]\n",
    "                else:\n",
    "                    distance *= float(p.values[i+1][0])*experiment[p.values[i+1][1]]\n",
    "            p.values[-1] += abs(distance - experiment['s'])\n",
    "\n",
    "def crossover(population):\n",
    "    len_population = len(population)\n",
    "    population = population[0:int(len_population*0.25)]\n",
    "    for _ in range(len(population)):\n",
    "        individual1, individual2 = random.choice(population), random.choice(population)\n",
    "        new_individual = []\n",
    "        for i in range(9):\n",
    "            r = random.random()\n",
    "            if r > 0.5:\n",
    "                new_individual.append(individual1.values[i])\n",
    "            else:\n",
    "                new_individual.append(individual2.values[i])\n",
    "        \n",
    "        population.append(Individual(new_individual))\n",
    "    \n",
    "    for i1, p1 in enumerate(population):\n",
    "        for i2, p2 in enumerate(population):\n",
    "            if i1 != i2:\n",
    "                if p1.values == p2.values:\n",
    "                    population.remove(p2)\n",
    "\n",
    "    population += create_population(len_population - len(population))\n",
    "\n",
    "    return population"
   ]
  },
  {
   "cell_type": "code",
   "execution_count": null,
   "metadata": {},
   "outputs": [],
   "source": [
    "population = create_population(1000)\n",
    "generations = 250000\n",
    "for gen in range(generations):\n",
    "    apply_function(population, experiment)\n",
    "    population = sorted(population, key=lambda x: x.values[-1])\n",
    "    if (gen+1)%5 == 0 or gen == 0:\n",
    "        print(f\"generation {gen+1} of {generations}\")\n",
    "        for p in population[0:5]:\n",
    "            reconstruct_function(p.values)\n",
    "            print(\"error:\", round(p.values[-1], 2))\n",
    "        print(\"=\"*130)\n",
    "    \n",
    "    for p in population:\n",
    "        p.values.pop(-1)\n",
    "    population = crossover(population)\n",
    "\n"
   ]
  },
  {
   "cell_type": "code",
   "execution_count": 19,
   "metadata": {},
   "outputs": [
    {
     "name": "stdout",
     "output_type": "stream",
     "text": [
      "S(a, v0, t) = 0.24903682606634203*a * 1.7426853610515602*t + 0.8608652793503897*v0 * 1.1500505099554394*t + 0.3249841522547985*t\n",
      "S(a, v0, t) = 0.24903682606634203*a * 1.7426853610515602*t + 0.8608652793503897*v0 * 1.1500505099554394*t + 0.3291119330043504*t\n",
      "S(a, v0, t) = 0.269719587445143*a * 1.610419522093389*t + 0.8608652793503897*v0 * 1.1500505099554394*t + 0.3249841522547985*t\n",
      "S(a, v0, t) = 0.269719587445143*a * 1.6003966280958766*t + 0.8720526970925309*v0 * 1.1500505099554394*t + 0.3249841522547985*t\n",
      "S(a, v0, t) = 0.269719587445143*a * 1.610419522093389*t + 0.8608652793503897*v0 * 1.1500505099554394*t + 0.3291119330043504*t\n"
     ]
    }
   ],
   "source": [
    "#best equations finded\n",
    "reconstruct_function(population[0].values)\n",
    "reconstruct_function(population[1].values)\n",
    "reconstruct_function(population[2].values)\n",
    "reconstruct_function(population[3].values)\n",
    "reconstruct_function(population[4].values)"
   ]
  }
 ],
 "metadata": {
  "kernelspec": {
   "display_name": "Python 3",
   "language": "python",
   "name": "python3"
  },
  "language_info": {
   "codemirror_mode": {
    "name": "ipython",
    "version": 3
   },
   "file_extension": ".py",
   "mimetype": "text/x-python",
   "name": "python",
   "nbconvert_exporter": "python",
   "pygments_lexer": "ipython3",
   "version": "3.10.12"
  },
  "orig_nbformat": 4
 },
 "nbformat": 4,
 "nbformat_minor": 2
}
